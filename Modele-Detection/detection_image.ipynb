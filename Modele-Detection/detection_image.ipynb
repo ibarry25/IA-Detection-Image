{
 "cells": [
  {
   "cell_type": "markdown",
   "metadata": {},
   "source": [
    "# Imports des librairies"
   ]
  },
  {
   "cell_type": "code",
   "execution_count": 16,
   "metadata": {},
   "outputs": [],
   "source": [
    "import cv2\n",
    "import cvlib as cv \n",
    "import tensorflow as tf\n",
    "import numpy as np\n",
    "from cvlib.object_detection import draw_bbox\n",
    "from IPython.display import display, Image\n"
   ]
  },
  {
   "cell_type": "markdown",
   "metadata": {},
   "source": [
    "# Traitement des données"
   ]
  },
  {
   "cell_type": "code",
   "execution_count": 23,
   "metadata": {},
   "outputs": [
    {
     "name": "stdout",
     "output_type": "stream",
     "text": [
      "\u001b[1m1/1\u001b[0m \u001b[32m━━━━━━━━━━━━━━━━━━━━\u001b[0m\u001b[37m\u001b[0m \u001b[1m1s\u001b[0m 643ms/step\n",
      "Ceci est peut-être Egyptian_cat : probabilité 0.7619953155517578\n",
      "Ceci est peut-être lynx : probabilité 0.09929485619068146\n",
      "Ceci est peut-être tabby : probabilité 0.05091417208313942\n",
      "Ceci est peut-être tiger_cat : probabilité 0.015354989096522331\n",
      "Ceci est peut-être Siamese_cat : probabilité 0.004867337178438902\n"
     ]
    }
   ],
   "source": [
    "model = tf.keras.applications.MobileNetV2(weights='imagenet')\n",
    "\n",
    "image = cv2.imread('../chat.jpeg')\n",
    "\n",
    "resized = cv2.resize(image, (224, 224))\n",
    "resized = tf.keras.preprocessing.image.img_to_array(resized)\n",
    "resized = tf.keras.applications.mobilenet_v2.preprocess_input(resized)\n",
    "\n",
    "predictions = model.predict(np.array([resized]))\n",
    "decoded_predictions = tf.keras.applications.mobilenet_v2.decode_predictions(predictions, top=5)\n",
    "\n",
    "for _, label, score in decoded_predictions[0]:\n",
    "    print(f\"Ceci est peut-être {label} : probabilité {score}\")\n",
    "    \n",
    "    "
   ]
  }
 ],
 "metadata": {
  "kernelspec": {
   "display_name": "Python 3",
   "language": "python",
   "name": "python3"
  },
  "language_info": {
   "codemirror_mode": {
    "name": "ipython",
    "version": 3
   },
   "file_extension": ".py",
   "mimetype": "text/x-python",
   "name": "python",
   "nbconvert_exporter": "python",
   "pygments_lexer": "ipython3",
   "version": "3.11.5"
  },
  "orig_nbformat": 4
 },
 "nbformat": 4,
 "nbformat_minor": 2
}
